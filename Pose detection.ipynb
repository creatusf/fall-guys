{
 "cells": [
  {
   "cell_type": "code",
   "execution_count": 1,
   "metadata": {},
   "outputs": [],
   "source": [
    "import tensorflow as tf\n",
    "import mediapipe as mp\n",
    "import numpy as np\n",
    "mp_drawing = mp.solutions.drawing_utils\n",
    "mp_pose = mp.solutions.pose\n",
    "from matplotlib import pyplot as plt\n",
    "import cv2\n",
    "import pandas as pd"
   ]
  },
  {
   "cell_type": "code",
   "execution_count": 185,
   "metadata": {},
   "outputs": [],
   "source": [
    "interpreter = tf.lite.Interpreter(model_path='tf model/lite-model_movenet_singlepose_thunder_3.tflite')\n",
    "interpreter.allocate_tensors()"
   ]
  },
  {
   "cell_type": "code",
   "execution_count": 186,
   "metadata": {},
   "outputs": [],
   "source": [
    "shaped = np.squeeze(np.multiply(interpreter.get_tensor(interpreter.get_output_details()[0]['index']), [480,640,1]))"
   ]
  },
  {
   "attachments": {},
   "cell_type": "markdown",
   "metadata": {},
   "source": [
    "## Variable definition"
   ]
  },
  {
   "cell_type": "code",
   "execution_count": 187,
   "metadata": {},
   "outputs": [],
   "source": [
    "body_parts = {0: 'nose',\n",
    "              1: 'left eye',\n",
    "              2: 'right eye',\n",
    "              3: 'left ear',\n",
    "              4: 'right ear',\n",
    "              5: 'left shoulder',\n",
    "              6: 'right shoulder',\n",
    "              7: 'left elbow',\n",
    "              8: 'right elbow',\n",
    "              9: 'left wrist',\n",
    "              10: 'right wrist',\n",
    "              11: 'left hip',\n",
    "              12: 'right hip',\n",
    "              13: 'left knee',\n",
    "              14: 'right knee',\n",
    "              15: 'left ankle',\n",
    "              16: 'right ankle'}\n",
    "\n",
    "\n"
   ]
  },
  {
   "cell_type": "code",
   "execution_count": 188,
   "metadata": {},
   "outputs": [],
   "source": [
    "# Define variables for fall detection\n",
    "NUM_FRAMES_TO_COMPARE = 2\n",
    "min_time_between_frames = 0.5  # in seconds\n",
    "max_time_between_frames = 1.5  # in seconds\n",
    "confidence_threshold = 0.4\n",
    "angle_threshold = 60.0  # in degrees"
   ]
  },
  {
   "cell_type": "code",
   "execution_count": 189,
   "metadata": {},
   "outputs": [],
   "source": [
    "EDGES = {\n",
    "    (0, 1): 'm',\n",
    "    (0, 2): 'c',\n",
    "    (1, 3): 'm',\n",
    "    (2, 4): 'c',\n",
    "    (0, 5): 'm',\n",
    "    (0, 6): 'c',\n",
    "    (5, 7): 'm',\n",
    "    (7, 9): 'm',\n",
    "    (6, 8): 'c',\n",
    "    (8, 10): 'c',\n",
    "    (5, 6): 'y',\n",
    "    (5, 11): 'm',\n",
    "    (6, 12): 'c',\n",
    "    (11, 12): 'y',\n",
    "    (11, 13): 'm',\n",
    "    (13, 15): 'm',\n",
    "    (12, 14): 'c',\n",
    "    (14, 16): 'c'\n",
    "}"
   ]
  },
  {
   "attachments": {},
   "cell_type": "markdown",
   "metadata": {},
   "source": [
    "## Functions"
   ]
  },
  {
   "cell_type": "code",
   "execution_count": 190,
   "metadata": {},
   "outputs": [],
   "source": [
    "def find_middle_point(point1, point2):\n",
    "    return (int((point1[0] + point2[0]) / 2), int((point1[1] + point2[1]) / 2))"
   ]
  },
  {
   "cell_type": "code",
   "execution_count": 191,
   "metadata": {},
   "outputs": [],
   "source": [
    "def draw_keypoints(frame, keypoints, confidence_threshold):\n",
    "    y, x, c = frame.shape\n",
    "    shaped = np.squeeze(np.multiply(keypoints, [y,x,1]))\n",
    "    for i in range(17):\n",
    "        kp = shaped[i]\n",
    "        ky, kx, kp_conf = kp\n",
    "        if kp_conf > confidence_threshold:\n",
    "            cv2.circle(frame, (int(kx), int(ky)), 4, (0,255,0), -1)\n",
    "            # give detail index of keypoint\n",
    "            # cv2.putText(frame, str(body_parts[i]), (int(kx), int(ky)), cv2.FONT_HERSHEY_SIMPLEX, 1, (0, 0, 255), 1, cv2.LINE_AA)\n",
    "    "
   ]
  },
  {
   "cell_type": "code",
   "execution_count": 192,
   "metadata": {},
   "outputs": [],
   "source": [
    "for edge, color in EDGES.items():\n",
    "    p1, p2 = edge\n",
    "    y1, x1, c1 = shaped[p1]\n",
    "    y2, x2, c2 = shaped[p2]\n",
    "\n",
    "def draw_connections(frame, keypoints, edges, confidence_threshold):\n",
    "    y, x, c = frame.shape\n",
    "    shaped = np.squeeze(np.multiply(keypoints, [y,x,1]))\n",
    "    \n",
    "    for edge, color in edges.items():\n",
    "        p1, p2 = edge\n",
    "        y1, x1, c1 = shaped[p1]\n",
    "        y2, x2, c2 = shaped[p2]\n",
    "        \n",
    "        if (c1 > confidence_threshold) & (c2 > confidence_threshold):      \n",
    "            cv2.line(frame, (int(x1), int(y1)), (int(x2), int(y2)), (0,0,255), 2)"
   ]
  },
  {
   "cell_type": "code",
   "execution_count": 193,
   "metadata": {},
   "outputs": [],
   "source": [
    "import math \n",
    "def calculate_angle(keypoints):\n",
    "    nose = keypoints[0][0], keypoints[0][1]\n",
    "    hip = find_middle_point(keypoints[11], keypoints[12])\n",
    "\n",
    "    angle_nose_hip = math.degrees(math.atan2(nose[1] - hip[1], nose[0] - hip[0]))\n",
    "    angle = math.degrees(angle_nose_hip)\n",
    "    \n",
    "    if angle_nose_hip < 0:\n",
    "        angle = -angle\n",
    "\n",
    "    return angle"
   ]
  },
  {
   "cell_type": "code",
   "execution_count": 194,
   "metadata": {},
   "outputs": [],
   "source": [
    "def is_body_line_motion_downward(angle, previous_angles, threshold, num_previous_angles):\n",
    "\n",
    "    # avg_previous_angles = sum(previous_angles) / len(previous_angles)\n",
    "    if angle < previous_angles - threshold:\n",
    "        return True, previous_angles\n",
    "    else:\n",
    "        return False, previous_angles"
   ]
  },
  {
   "attachments": {},
   "cell_type": "markdown",
   "metadata": {},
   "source": [
    "# Live Prediction"
   ]
  },
  {
   "cell_type": "code",
   "execution_count": 198,
   "metadata": {},
   "outputs": [
    {
     "name": "stdout",
     "output_type": "stream",
     "text": [
      "8434.318457689285\n",
      "True\n",
      "7610.160499217422\n",
      "True\n",
      "7975.106523157051\n",
      "False\n",
      "9278.420609749024\n",
      "False\n",
      "9580.413018810666\n",
      "False\n",
      "9396.571676093792\n",
      "False\n",
      "9686.711081314725\n",
      "True\n",
      "8711.65835806619\n",
      "True\n",
      "8239.559063010282\n",
      "True\n",
      "8380.406615690375\n",
      "False\n",
      "8222.82325400909\n",
      "True\n",
      "8730.990227830363\n",
      "False\n",
      "8905.13514740914\n",
      "True\n",
      "8589.049255157179\n",
      "True\n",
      "8864.681790479783\n",
      "False\n",
      "8639.384764645853\n",
      "False\n",
      "8739.61924664868\n",
      "False\n",
      "8902.159536735247\n",
      "True\n",
      "9236.197290796812\n",
      "False\n",
      "9034.620677347646\n",
      "False\n",
      "8977.555684108642\n",
      "False\n",
      "8848.141814508934\n",
      "False\n",
      "9057.705460727366\n",
      "False\n",
      "9291.901780160115\n",
      "False\n",
      "9330.500844702934\n",
      "True\n",
      "9035.789185194171\n",
      "True\n",
      "8934.390606208819\n",
      "True\n",
      "8812.799199194009\n",
      "True\n",
      "9221.776977881002\n",
      "True\n",
      "9327.137837587781\n",
      "False\n",
      "9528.585265067804\n",
      "False\n",
      "9606.78441955909\n",
      "False\n",
      "9342.20869572185\n",
      "False\n",
      "8984.337835304212\n",
      "True\n",
      "8776.40971492872\n",
      "True\n",
      "9348.91089649638\n",
      "True\n",
      "9942.912355817454\n",
      "False\n",
      "8181.356454132406\n",
      "True\n"
     ]
    }
   ],
   "source": [
    " with mp_pose.Pose(min_detection_confidence=0.5, min_tracking_confidence=0.5) as pose:\n",
    "    cap = cv2.VideoCapture('video/cam7.avi')\n",
    "    angles = []\n",
    "    fall = False\n",
    "    while cap.isOpened():\n",
    "        ret, frame = cap.read()\n",
    "        fall_detected = False\n",
    "        # Reshape image\n",
    "        img = frame.copy()\n",
    "        img = tf.image.resize_with_pad(np.expand_dims(img, axis=0), 256,256)\n",
    "        input_image = tf.cast(img, dtype=tf.float32)\n",
    "        \n",
    "        # Setup input and output \n",
    "        input_details = interpreter.get_input_details()\n",
    "        output_details = interpreter.get_output_details()\n",
    "        \n",
    "        # Make predictions \n",
    "        interpreter.set_tensor(input_details[0]['index'], np.array(input_image))\n",
    "        interpreter.invoke()\n",
    "        keypoints_with_scores = interpreter.get_tensor(output_details[0]['index'])\n",
    "        \n",
    "        y, x, c = frame.shape\n",
    "        shaped = np.squeeze(np.multiply(keypoints_with_scores, [y,x,1]))\n",
    "        angle = calculate_angle(shaped)\n",
    "        angles.append(angle)\n",
    "        \n",
    "        \n",
    "        # Rendering \n",
    "        draw_connections(frame, keypoints_with_scores, EDGES, 0.4)\n",
    "        draw_keypoints(frame, keypoints_with_scores, 0.4)\n",
    "\n",
    "        nose = shaped[0]\n",
    "        hip_left = shaped[11]\n",
    "        hip_right = shaped[12]\n",
    "        if (hip_right[2]>0.4) and (hip_left[2]>0.4) and (nose[2]>0.4):\n",
    "            print(angle)\n",
    "            fall_detected, previous_angles = is_body_line_motion_downward(\n",
    "                angle=angle,\n",
    "                previous_angles=angles[-5],\n",
    "                threshold=60,  # adjust threshold as needed\n",
    "                num_previous_angles=5  # adjust number of previous angles to keep track of as needed\n",
    "            )\n",
    "            print(fall_detected)\n",
    "            if fall_detected:\n",
    "                fall = True\n",
    "            \n",
    "        if fall:\n",
    "            cv2.putText(frame, \"Fall detected!\", (50, 50), cv2.FONT_HERSHEY_SIMPLEX, 1, (0, 0, 255), 1, cv2.LINE_AA)\n",
    "        \n",
    "        cv2.imshow('MoveNet Lightning', frame)\n",
    "        \n",
    "        if cv2.waitKey(10) & 0xFF==ord('q'):\n",
    "            break\n",
    "            \n",
    "    cap.release()\n",
    "    cv2.destroyAllWindows()"
   ]
  },
  {
   "cell_type": "code",
   "execution_count": 199,
   "metadata": {},
   "outputs": [
    {
     "name": "stdout",
     "output_type": "stream",
     "text": [
      "Collecting mediapipe\n",
      "  Downloading mediapipe-0.9.3.0-cp39-cp39-win_amd64.whl (50.2 MB)\n",
      "     ---------------------------------------- 50.2/50.2 MB 1.6 MB/s eta 0:00:00\n",
      "Collecting opencv-python\n",
      "  Using cached opencv_python-4.7.0.72-cp37-abi3-win_amd64.whl (38.2 MB)\n",
      "Requirement already satisfied: absl-py in c:\\users\\asus\\anaconda3\\lib\\site-packages (from mediapipe) (1.4.0)\n",
      "Requirement already satisfied: opencv-contrib-python in c:\\users\\asus\\anaconda3\\lib\\site-packages (from mediapipe) (4.7.0.68)\n",
      "Requirement already satisfied: matplotlib in c:\\users\\asus\\anaconda3\\lib\\site-packages (from mediapipe) (3.5.1)\n",
      "Requirement already satisfied: numpy in c:\\users\\asus\\anaconda3\\lib\\site-packages (from mediapipe) (1.21.5)\n",
      "Collecting flatbuffers>=2.0\n",
      "  Downloading flatbuffers-23.3.3-py2.py3-none-any.whl (26 kB)\n",
      "Requirement already satisfied: protobuf<4,>=3.11 in c:\\users\\asus\\anaconda3\\lib\\site-packages (from mediapipe) (3.19.6)\n",
      "Collecting sounddevice>=0.4.4\n",
      "  Downloading sounddevice-0.4.6-py3-none-win_amd64.whl (199 kB)\n",
      "     -------------------------------------- 199.7/199.7 kB 1.7 MB/s eta 0:00:00\n",
      "Requirement already satisfied: attrs>=19.1.0 in c:\\users\\asus\\anaconda3\\lib\\site-packages (from mediapipe) (21.4.0)\n",
      "Requirement already satisfied: CFFI>=1.0 in c:\\users\\asus\\anaconda3\\lib\\site-packages (from sounddevice>=0.4.4->mediapipe) (1.15.1)\n",
      "Requirement already satisfied: fonttools>=4.22.0 in c:\\users\\asus\\anaconda3\\lib\\site-packages (from matplotlib->mediapipe) (4.25.0)\n",
      "Requirement already satisfied: cycler>=0.10 in c:\\users\\asus\\anaconda3\\lib\\site-packages (from matplotlib->mediapipe) (0.11.0)\n",
      "Requirement already satisfied: pillow>=6.2.0 in c:\\users\\asus\\anaconda3\\lib\\site-packages (from matplotlib->mediapipe) (9.2.0)\n",
      "Requirement already satisfied: kiwisolver>=1.0.1 in c:\\users\\asus\\anaconda3\\lib\\site-packages (from matplotlib->mediapipe) (1.4.2)\n",
      "Requirement already satisfied: packaging>=20.0 in c:\\users\\asus\\anaconda3\\lib\\site-packages (from matplotlib->mediapipe) (21.3)\n",
      "Requirement already satisfied: pyparsing>=2.2.1 in c:\\users\\asus\\anaconda3\\lib\\site-packages (from matplotlib->mediapipe) (3.0.9)\n",
      "Requirement already satisfied: python-dateutil>=2.7 in c:\\users\\asus\\anaconda3\\lib\\site-packages (from matplotlib->mediapipe) (2.8.2)\n",
      "Requirement already satisfied: pycparser in c:\\users\\asus\\anaconda3\\lib\\site-packages (from CFFI>=1.0->sounddevice>=0.4.4->mediapipe) (2.21)\n",
      "Requirement already satisfied: six>=1.5 in c:\\users\\asus\\anaconda3\\lib\\site-packages (from python-dateutil>=2.7->matplotlib->mediapipe) (1.16.0)\n",
      "Installing collected packages: flatbuffers, opencv-python, sounddevice, mediapipe\n",
      "  Attempting uninstall: flatbuffers\n",
      "    Found existing installation: flatbuffers 1.12\n",
      "    Uninstalling flatbuffers-1.12:\n",
      "      Successfully uninstalled flatbuffers-1.12\n"
     ]
    },
    {
     "name": "stderr",
     "output_type": "stream",
     "text": [
      "WARNING: Ignoring invalid distribution -rotobuf (c:\\users\\asus\\anaconda3\\lib\\site-packages)\n",
      "WARNING: Ignoring invalid distribution -andas (c:\\users\\asus\\anaconda3\\lib\\site-packages)\n",
      "WARNING: Ignoring invalid distribution -rotobuf (c:\\users\\asus\\anaconda3\\lib\\site-packages)\n",
      "WARNING: Ignoring invalid distribution -andas (c:\\users\\asus\\anaconda3\\lib\\site-packages)\n",
      "WARNING: Ignoring invalid distribution -rotobuf (c:\\users\\asus\\anaconda3\\lib\\site-packages)\n",
      "WARNING: Ignoring invalid distribution -andas (c:\\users\\asus\\anaconda3\\lib\\site-packages)\n",
      "    WARNING: Ignoring invalid distribution -rotobuf (c:\\users\\asus\\anaconda3\\lib\\site-packages)\n",
      "    WARNING: Ignoring invalid distribution -andas (c:\\users\\asus\\anaconda3\\lib\\site-packages)\n",
      "ERROR: Could not install packages due to an OSError: [WinError 5] Access is denied: 'C:\\\\Users\\\\ASUS\\\\anaconda3\\\\Lib\\\\site-packages\\\\cv2\\\\cv2.pyd'\n",
      "Consider using the `--user` option or check the permissions.\n",
      "\n",
      "WARNING: Ignoring invalid distribution -rotobuf (c:\\users\\asus\\anaconda3\\lib\\site-packages)\n",
      "WARNING: Ignoring invalid distribution -andas (c:\\users\\asus\\anaconda3\\lib\\site-packages)\n",
      "WARNING: Ignoring invalid distribution -rotobuf (c:\\users\\asus\\anaconda3\\lib\\site-packages)\n",
      "WARNING: Ignoring invalid distribution -andas (c:\\users\\asus\\anaconda3\\lib\\site-packages)\n",
      "WARNING: Ignoring invalid distribution -rotobuf (c:\\users\\asus\\anaconda3\\lib\\site-packages)\n",
      "WARNING: Ignoring invalid distribution -andas (c:\\users\\asus\\anaconda3\\lib\\site-packages)\n"
     ]
    }
   ],
   "source": [
    "!pip install mediapipe opencv-python\n"
   ]
  },
  {
   "cell_type": "code",
   "execution_count": null,
   "metadata": {},
   "outputs": [],
   "source": []
  }
 ],
 "metadata": {
  "kernelspec": {
   "display_name": "base",
   "language": "python",
   "name": "python3"
  },
  "language_info": {
   "codemirror_mode": {
    "name": "ipython",
    "version": 3
   },
   "file_extension": ".py",
   "mimetype": "text/x-python",
   "name": "python",
   "nbconvert_exporter": "python",
   "pygments_lexer": "ipython3",
   "version": "3.9.13"
  },
  "orig_nbformat": 4
 },
 "nbformat": 4,
 "nbformat_minor": 2
}
